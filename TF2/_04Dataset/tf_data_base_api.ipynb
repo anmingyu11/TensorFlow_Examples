{
 "cells": [
  {
   "cell_type": "code",
   "execution_count": 1,
   "metadata": {},
   "outputs": [
    {
     "name": "stdout",
     "output_type": "stream",
     "text": [
      "2.0.0\n",
      "sys.version_info(major=3, minor=7, micro=4, releaselevel='final', serial=0)\n",
      "matplotlib 3.1.1\n",
      "numpy 1.17.2\n",
      "pandas 0.25.1\n",
      "sklearn 0.21.3\n",
      "tensorflow 2.0.0\n",
      "tensorflow_core.keras 2.2.4-tf\n"
     ]
    }
   ],
   "source": [
    "import matplotlib as mpl\n",
    "import matplotlib.pyplot as plt\n",
    "%matplotlib inline\n",
    "import numpy as np\n",
    "import sklearn\n",
    "import pandas as pd\n",
    "import os\n",
    "import sys\n",
    "import time\n",
    "import tensorflow as tf\n",
    "\n",
    "from tensorflow import keras\n",
    "\n",
    "print(tf.__version__)\n",
    "print(sys.version_info)\n",
    "for module in mpl, np, pd, sklearn, tf, keras:\n",
    "    print(module.__name__, module.__version__)"
   ]
  },
  {
   "cell_type": "code",
   "execution_count": 4,
   "metadata": {},
   "outputs": [],
   "source": [
    "dataset = tf.data.Dataset.from_tensor_slices(np.arange(10))"
   ]
  },
  {
   "cell_type": "code",
   "execution_count": 5,
   "metadata": {},
   "outputs": [
    {
     "name": "stdout",
     "output_type": "stream",
     "text": [
      "tf.Tensor(0, shape=(), dtype=int64)\n",
      "tf.Tensor(1, shape=(), dtype=int64)\n",
      "tf.Tensor(2, shape=(), dtype=int64)\n",
      "tf.Tensor(3, shape=(), dtype=int64)\n",
      "tf.Tensor(4, shape=(), dtype=int64)\n",
      "tf.Tensor(5, shape=(), dtype=int64)\n",
      "tf.Tensor(6, shape=(), dtype=int64)\n",
      "tf.Tensor(7, shape=(), dtype=int64)\n",
      "tf.Tensor(8, shape=(), dtype=int64)\n",
      "tf.Tensor(9, shape=(), dtype=int64)\n"
     ]
    }
   ],
   "source": [
    "for item in dataset:\n",
    "    print(item)"
   ]
  },
  {
   "cell_type": "code",
   "execution_count": 6,
   "metadata": {},
   "outputs": [
    {
     "name": "stdout",
     "output_type": "stream",
     "text": [
      "tf.Tensor([0 1 2 3 4 5 6], shape=(7,), dtype=int64)\n",
      "tf.Tensor([7 8 9 0 1 2 3], shape=(7,), dtype=int64)\n",
      "tf.Tensor([4 5 6 7 8 9 0], shape=(7,), dtype=int64)\n",
      "tf.Tensor([1 2 3 4 5 6 7], shape=(7,), dtype=int64)\n",
      "tf.Tensor([8 9], shape=(2,), dtype=int64)\n"
     ]
    }
   ],
   "source": [
    "# 1. epoch\n",
    "# 2. get batch\n",
    "dataset = dataset.repeat(3).batch(7)\n",
    "for item in dataset:\n",
    "    print(item)\n",
    "    \n",
    "# output repeat 3 like arr-arr-arr then batch 7 from this"
   ]
  },
  {
   "cell_type": "code",
   "execution_count": 8,
   "metadata": {},
   "outputs": [
    {
     "name": "stdout",
     "output_type": "stream",
     "text": [
      "tf.Tensor(0, shape=(), dtype=int64)\n",
      "tf.Tensor(1, shape=(), dtype=int64)\n",
      "tf.Tensor(2, shape=(), dtype=int64)\n",
      "tf.Tensor(3, shape=(), dtype=int64)\n",
      "tf.Tensor(4, shape=(), dtype=int64)\n",
      "tf.Tensor(7, shape=(), dtype=int64)\n",
      "tf.Tensor(8, shape=(), dtype=int64)\n",
      "tf.Tensor(9, shape=(), dtype=int64)\n",
      "tf.Tensor(0, shape=(), dtype=int64)\n",
      "tf.Tensor(1, shape=(), dtype=int64)\n",
      "tf.Tensor(4, shape=(), dtype=int64)\n",
      "tf.Tensor(5, shape=(), dtype=int64)\n",
      "tf.Tensor(6, shape=(), dtype=int64)\n",
      "tf.Tensor(7, shape=(), dtype=int64)\n",
      "tf.Tensor(8, shape=(), dtype=int64)\n",
      "tf.Tensor(1, shape=(), dtype=int64)\n",
      "tf.Tensor(2, shape=(), dtype=int64)\n",
      "tf.Tensor(3, shape=(), dtype=int64)\n",
      "tf.Tensor(4, shape=(), dtype=int64)\n",
      "tf.Tensor(5, shape=(), dtype=int64)\n",
      "tf.Tensor(8, shape=(), dtype=int64)\n",
      "tf.Tensor(9, shape=(), dtype=int64)\n",
      "tf.Tensor(5, shape=(), dtype=int64)\n",
      "tf.Tensor(6, shape=(), dtype=int64)\n",
      "tf.Tensor(2, shape=(), dtype=int64)\n",
      "tf.Tensor(3, shape=(), dtype=int64)\n",
      "tf.Tensor(9, shape=(), dtype=int64)\n",
      "tf.Tensor(0, shape=(), dtype=int64)\n",
      "tf.Tensor(6, shape=(), dtype=int64)\n",
      "tf.Tensor(7, shape=(), dtype=int64)\n"
     ]
    }
   ],
   "source": [
    "# interleave\n",
    "# case : 文件dataset -> 具体数据集\n",
    "dataset2 = dataset.interleave(\n",
    "    lambda v : tf.data.Dataset.from_tensor_slices(v)\n",
    "    , cycle_length= 5\n",
    "    , block_length= 5\n",
    ")\n",
    "\n",
    "for item in dataset2:\n",
    "    print(item)"
   ]
  },
  {
   "cell_type": "markdown",
   "metadata": {},
   "source": [
    "```\n",
    "tf.Tensor(0, shape=(), dtype=int64)\n",
    "tf.Tensor(1, shape=(), dtype=int64)\n",
    "tf.Tensor(2, shape=(), dtype=int64)\n",
    "tf.Tensor(3, shape=(), dtype=int64)\n",
    "tf.Tensor(4, shape=(), dtype=int64)\n",
    "\n",
    "tf.Tensor(7, shape=(), dtype=int64)\n",
    "tf.Tensor(8, shape=(), dtype=int64)\n",
    "tf.Tensor(9, shape=(), dtype=int64)\n",
    "tf.Tensor(0, shape=(), dtype=int64)\n",
    "tf.Tensor(1, shape=(), dtype=int64)\n",
    "\n",
    "tf.Tensor(4, shape=(), dtype=int64)\n",
    "tf.Tensor(5, shape=(), dtype=int64)\n",
    "tf.Tensor(6, shape=(), dtype=int64)\n",
    "tf.Tensor(7, shape=(), dtype=int64)\n",
    "tf.Tensor(8, shape=(), dtype=int64)\n",
    "\n",
    "tf.Tensor(1, shape=(), dtype=int64)\n",
    "tf.Tensor(2, shape=(), dtype=int64)\n",
    "tf.Tensor(3, shape=(), dtype=int64)\n",
    "tf.Tensor(4, shape=(), dtype=int64)\n",
    "tf.Tensor(5, shape=(), dtype=int64)\n",
    "\n",
    "```\n",
    "\n"
   ]
  },
  {
   "cell_type": "code",
   "execution_count": 9,
   "metadata": {},
   "outputs": [
    {
     "name": "stdout",
     "output_type": "stream",
     "text": [
      "<TensorSliceDataset shapes: ((2,), ()), types: (tf.int64, tf.string)>\n"
     ]
    }
   ],
   "source": [
    "x = np.array([[1,2],[3,4],[5,6]])\n",
    "y = np.array(['cat','dog','fox'])\n",
    "\n",
    "dataset3 = tf.data.Dataset.from_tensor_slices((x,y))# 元组形式的 特征矩阵和目标向量\n",
    "\n",
    "print(dataset3)"
   ]
  },
  {
   "cell_type": "code",
   "execution_count": 11,
   "metadata": {},
   "outputs": [
    {
     "name": "stdout",
     "output_type": "stream",
     "text": [
      "tf.Tensor([1 2], shape=(2,), dtype=int64)\n",
      "tf.Tensor(b'cat', shape=(), dtype=string)\n",
      "tf.Tensor([3 4], shape=(2,), dtype=int64)\n",
      "tf.Tensor(b'dog', shape=(), dtype=string)\n",
      "tf.Tensor([5 6], shape=(2,), dtype=int64)\n",
      "tf.Tensor(b'fox', shape=(), dtype=string)\n"
     ]
    }
   ],
   "source": [
    "for item_x,item_y in dataset3:\n",
    "    print(item_x)\n",
    "    print(item_y)"
   ]
  },
  {
   "cell_type": "code",
   "execution_count": 12,
   "metadata": {},
   "outputs": [
    {
     "name": "stdout",
     "output_type": "stream",
     "text": [
      "tf.Tensor([1 2], shape=(2,), dtype=int64)\n",
      "tf.Tensor(b'cat', shape=(), dtype=string)\n",
      "tf.Tensor([3 4], shape=(2,), dtype=int64)\n",
      "tf.Tensor(b'dog', shape=(), dtype=string)\n",
      "tf.Tensor([5 6], shape=(2,), dtype=int64)\n",
      "tf.Tensor(b'fox', shape=(), dtype=string)\n"
     ]
    }
   ],
   "source": [
    "dataset4 = tf.data.Dataset.from_tensor_slices({'feature' : x,'label':y})# map 形式\n",
    "\n",
    "for item in dataset4:\n",
    "    print(item['feature'])\n",
    "    print(item['label'])\n"
   ]
  }
 ],
 "metadata": {
  "kernelspec": {
   "display_name": "Python 3",
   "language": "python",
   "name": "python3"
  },
  "language_info": {
   "codemirror_mode": {
    "name": "ipython",
    "version": 3
   },
   "file_extension": ".py",
   "mimetype": "text/x-python",
   "name": "python",
   "nbconvert_exporter": "python",
   "pygments_lexer": "ipython3",
   "version": "3.7.4"
  }
 },
 "nbformat": 4,
 "nbformat_minor": 2
}
