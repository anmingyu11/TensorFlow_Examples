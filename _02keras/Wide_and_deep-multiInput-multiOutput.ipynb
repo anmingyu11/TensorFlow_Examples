{
 "cells": [
  {
   "cell_type": "code",
   "execution_count": 1,
   "metadata": {},
   "outputs": [
    {
     "name": "stdout",
     "output_type": "stream",
     "text": [
      "2.0.0\n",
      "sys.version_info(major=3, minor=7, micro=4, releaselevel='final', serial=0)\n",
      "matplotlib 3.1.1\n",
      "numpy 1.17.2\n",
      "pandas 0.25.1\n",
      "sklearn 0.21.3\n",
      "tensorflow 2.0.0\n",
      "tensorflow_core.keras 2.2.4-tf\n"
     ]
    }
   ],
   "source": [
    "import matplotlib as mpl\n",
    "import matplotlib.pyplot as plt\n",
    "%matplotlib inline\n",
    "import numpy as np\n",
    "import sklearn\n",
    "import pandas as pd\n",
    "import os\n",
    "import sys\n",
    "import time\n",
    "import tensorflow as tf\n",
    "\n",
    "from tensorflow import keras\n",
    "\n",
    "print(tf.__version__)\n",
    "print(sys.version_info)\n",
    "for module in mpl, np, pd, sklearn, tf, keras:\n",
    "    print(module.__name__, module.__version__)"
   ]
  },
  {
   "cell_type": "code",
   "execution_count": 2,
   "metadata": {},
   "outputs": [
    {
     "name": "stdout",
     "output_type": "stream",
     "text": [
      ".. _california_housing_dataset:\n",
      "\n",
      "California Housing dataset\n",
      "--------------------------\n",
      "\n",
      "**Data Set Characteristics:**\n",
      "\n",
      "    :Number of Instances: 20640\n",
      "\n",
      "    :Number of Attributes: 8 numeric, predictive attributes and the target\n",
      "\n",
      "    :Attribute Information:\n",
      "        - MedInc        median income in block\n",
      "        - HouseAge      median house age in block\n",
      "        - AveRooms      average number of rooms\n",
      "        - AveBedrms     average number of bedrooms\n",
      "        - Population    block population\n",
      "        - AveOccup      average house occupancy\n",
      "        - Latitude      house block latitude\n",
      "        - Longitude     house block longitude\n",
      "\n",
      "    :Missing Attribute Values: None\n",
      "\n",
      "This dataset was obtained from the StatLib repository.\n",
      "http://lib.stat.cmu.edu/datasets/\n",
      "\n",
      "The target variable is the median house value for California districts.\n",
      "\n",
      "This dataset was derived from the 1990 U.S. census, using one row per census\n",
      "block group. A block group is the smallest geographical unit for which the U.S.\n",
      "Census Bureau publishes sample data (a block group typically has a population\n",
      "of 600 to 3,000 people).\n",
      "\n",
      "It can be downloaded/loaded using the\n",
      ":func:`sklearn.datasets.fetch_california_housing` function.\n",
      "\n",
      ".. topic:: References\n",
      "\n",
      "    - Pace, R. Kelley and Ronald Barry, Sparse Spatial Autoregressions,\n",
      "      Statistics and Probability Letters, 33 (1997) 291-297\n",
      "\n",
      "(20640, 8)\n",
      "(20640,)\n"
     ]
    }
   ],
   "source": [
    "from sklearn.datasets import fetch_california_housing\n",
    "\n",
    "housing = fetch_california_housing()\n",
    "print(housing.DESCR)\n",
    "print(housing.data.shape)\n",
    "print(housing.target.shape)"
   ]
  },
  {
   "cell_type": "code",
   "execution_count": 3,
   "metadata": {},
   "outputs": [
    {
     "name": "stdout",
     "output_type": "stream",
     "text": [
      "(11610, 8) (11610,)\n",
      "(3870, 8) (3870,)\n",
      "(5160, 8) (5160,)\n"
     ]
    }
   ],
   "source": [
    "from sklearn.model_selection import train_test_split\n",
    "\n",
    "X_train, X_test, y_train, y_test = train_test_split(\n",
    "    housing.data, housing.target, random_state = 7)\n",
    "X_train, X_val, y_train, y_val = train_test_split(\n",
    "    X_train, y_train, random_state = 11)\n",
    "print(X_train.shape, y_train.shape)\n",
    "print(X_val.shape, y_val.shape)\n",
    "print(X_test.shape, y_test.shape)"
   ]
  },
  {
   "cell_type": "code",
   "execution_count": 4,
   "metadata": {},
   "outputs": [],
   "source": [
    "from sklearn.preprocessing import StandardScaler\n",
    "\n",
    "scaler = StandardScaler()\n",
    "X_train = scaler.fit_transform(X_train)\n",
    "X_val = scaler.transform(X_val)\n",
    "X_test = scaler.transform(X_test)"
   ]
  },
  {
   "cell_type": "code",
   "execution_count": 5,
   "metadata": {},
   "outputs": [
    {
     "name": "stdout",
     "output_type": "stream",
     "text": [
      "Model: \"model\"\n",
      "__________________________________________________________________________________________________\n",
      "Layer (type)                    Output Shape         Param #     Connected to                     \n",
      "==================================================================================================\n",
      "input_2 (InputLayer)            [(None, 6)]          0                                            \n",
      "__________________________________________________________________________________________________\n",
      "dense (Dense)                   (None, 30)           210         input_2[0][0]                    \n",
      "__________________________________________________________________________________________________\n",
      "dense_1 (Dense)                 (None, 30)           930         dense[0][0]                      \n",
      "__________________________________________________________________________________________________\n",
      "input_1 (InputLayer)            [(None, 5)]          0                                            \n",
      "__________________________________________________________________________________________________\n",
      "concatenate (Concatenate)       (None, 35)           0           dense_1[0][0]                    \n",
      "                                                                 input_1[0][0]                    \n",
      "__________________________________________________________________________________________________\n",
      "dense_2 (Dense)                 (None, 1)            36          concatenate[0][0]                \n",
      "__________________________________________________________________________________________________\n",
      "dense_3 (Dense)                 (None, 1)            31          dense_1[0][0]                    \n",
      "==================================================================================================\n",
      "Total params: 1,207\n",
      "Trainable params: 1,207\n",
      "Non-trainable params: 0\n",
      "__________________________________________________________________________________________________\n"
     ]
    }
   ],
   "source": [
    "# 多输出\n",
    "input_wide = keras.layers.Input(shape=[5])\n",
    "input_deep = keras.layers.Input(shape=[6])\n",
    "hidden1 = keras.layers.Dense(30,activation='relu')(input_deep)\n",
    "hidden2 = keras.layers.Dense(30,activation='relu')(hidden1)\n",
    "concat = keras.layers.concatenate([hidden2 ,input_wide])\n",
    "output = keras.layers.Dense(1)(concat)\n",
    "output2 = keras.layers.Dense(1)(hidden2)\n",
    "\n",
    "model = keras.models.Model(\n",
    "    inputs = [input_wide , input_deep]\n",
    "    , outputs = [output , output2]\n",
    ")\n",
    "callbacks = [keras.callbacks.EarlyStopping(patience=5,min_delta=1e-2)]\n",
    "model.compile(loss=keras.metrics.mean_squared_error,optimizer=keras.optimizers.SGD(0.01))\n",
    "model.summary()"
   ]
  },
  {
   "cell_type": "code",
   "execution_count": 8,
   "metadata": {},
   "outputs": [],
   "source": [
    "X_train_wide = X_train[:, :5]\n",
    "X_train_deep = X_train[:, 2:]\n",
    "X_val_wide = X_val[:, :5]\n",
    "X_val_deep = X_val[:, 2:]\n",
    "X_test_wide = X_test[:, :5]\n",
    "X_test_deep = X_test[:, 2:]"
   ]
  },
  {
   "cell_type": "code",
   "execution_count": 10,
   "metadata": {},
   "outputs": [
    {
     "name": "stdout",
     "output_type": "stream",
     "text": [
      "Train on 11610 samples, validate on 3870 samples\n",
      "Epoch 1/50\n",
      "11610/11610 [==============================] - 4s 305us/sample - loss: 2.6092 - dense_2_loss: 0.8651 - dense_3_loss: 1.7433 - val_loss: 1.2133 - val_dense_2_loss: 0.5108 - val_dense_3_loss: 0.7024\n",
      "Epoch 2/50\n",
      "11610/11610 [==============================] - 2s 138us/sample - loss: 0.9936 - dense_2_loss: 0.4113 - dense_3_loss: 0.5822 - val_loss: 0.9645 - val_dense_2_loss: 0.4038 - val_dense_3_loss: 0.5606\n",
      "Epoch 3/50\n",
      "11610/11610 [==============================] - 2s 135us/sample - loss: 0.9161 - dense_2_loss: 0.3877 - dense_3_loss: 0.5282 - val_loss: 0.9499 - val_dense_2_loss: 0.3972 - val_dense_3_loss: 0.5525\n",
      "Epoch 4/50\n",
      "11610/11610 [==============================] - 2s 138us/sample - loss: 0.8708 - dense_2_loss: 0.3780 - dense_3_loss: 0.4927 - val_loss: 0.8860 - val_dense_2_loss: 0.3861 - val_dense_3_loss: 0.4998\n",
      "Epoch 5/50\n",
      "11610/11610 [==============================] - 2s 133us/sample - loss: 0.8410 - dense_2_loss: 0.3729 - dense_3_loss: 0.4681 - val_loss: 0.8562 - val_dense_2_loss: 0.3785 - val_dense_3_loss: 0.4776\n",
      "Epoch 6/50\n",
      "11610/11610 [==============================] - 2s 133us/sample - loss: 0.8086 - dense_2_loss: 0.3603 - dense_3_loss: 0.4484 - val_loss: 0.8290 - val_dense_2_loss: 0.3698 - val_dense_3_loss: 0.4591\n",
      "Epoch 7/50\n",
      "11610/11610 [==============================] - 2s 137us/sample - loss: 0.7961 - dense_2_loss: 0.3624 - dense_3_loss: 0.4336 - val_loss: 0.7991 - val_dense_2_loss: 0.3641 - val_dense_3_loss: 0.4349\n",
      "Epoch 8/50\n",
      "11610/11610 [==============================] - 2s 136us/sample - loss: 0.7730 - dense_2_loss: 0.3493 - dense_3_loss: 0.4238 - val_loss: 0.7687 - val_dense_2_loss: 0.3494 - val_dense_3_loss: 0.4191\n",
      "Epoch 9/50\n",
      "11610/11610 [==============================] - 2s 133us/sample - loss: 0.7614 - dense_2_loss: 0.3445 - dense_3_loss: 0.4169 - val_loss: 0.7741 - val_dense_2_loss: 0.3531 - val_dense_3_loss: 0.4209\n",
      "Epoch 10/50\n",
      "11610/11610 [==============================] - 2s 143us/sample - loss: 0.7507 - dense_2_loss: 0.3420 - dense_3_loss: 0.4087 - val_loss: 0.7759 - val_dense_2_loss: 0.3475 - val_dense_3_loss: 0.4283\n",
      "Epoch 11/50\n",
      "11610/11610 [==============================] - 2s 138us/sample - loss: 0.7433 - dense_2_loss: 0.3379 - dense_3_loss: 0.4053 - val_loss: 0.7816 - val_dense_2_loss: 0.3572 - val_dense_3_loss: 0.4243\n",
      "Epoch 12/50\n",
      "11610/11610 [==============================] - 2s 202us/sample - loss: 0.7394 - dense_2_loss: 0.3366 - dense_3_loss: 0.4027 - val_loss: 0.7640 - val_dense_2_loss: 0.3441 - val_dense_3_loss: 0.4198\n",
      "Epoch 13/50\n",
      "11610/11610 [==============================] - 2s 137us/sample - loss: 0.7298 - dense_2_loss: 0.3324 - dense_3_loss: 0.3971 - val_loss: 0.7615 - val_dense_2_loss: 0.3476 - val_dense_3_loss: 0.4138\n"
     ]
    }
   ],
   "source": [
    "history = model.fit(\n",
    "    [X_train_wide,X_train_deep]\n",
    "    ,[y_train,y_train]\n",
    "    ,validation_data=(\n",
    "        [X_val_wide,X_val_deep]\n",
    "        ,[y_val,y_val]\n",
    "    )\n",
    "    ,epochs=50\n",
    "    ,callbacks=callbacks\n",
    ")"
   ]
  },
  {
   "cell_type": "code",
   "execution_count": 12,
   "metadata": {},
   "outputs": [
    {
     "data": {
      "image/png": "[encoded data removed]",
      "text/plain": [
       "<Figure size 576x360 with 1 Axes>"
      ]
     },
     "metadata": {
      "needs_background": "light"
     },
     "output_type": "display_data"
    }
   ],
   "source": [
    "def plot_learning_curves(history):\n",
    "    pd.DataFrame(history.history).plot(figsize=(8, 5))\n",
    "    plt.grid(True)\n",
    "    plt.show()\n",
    "plot_learning_curves(history)"
   ]
  }
 ],
 "metadata": {
  "kernelspec": {
   "display_name": "Python 3",
   "language": "python",
   "name": "python3"
  },
  "language_info": {
   "codemirror_mode": {
    "name": "ipython",
    "version": 3
   },
   "file_extension": ".py",
   "mimetype": "text/x-python",
   "name": "python",
   "nbconvert_exporter": "python",
   "pygments_lexer": "ipython3",
   "version": "3.7.4"
  }
 },
 "nbformat": 4,
 "nbformat_minor": 2
}
