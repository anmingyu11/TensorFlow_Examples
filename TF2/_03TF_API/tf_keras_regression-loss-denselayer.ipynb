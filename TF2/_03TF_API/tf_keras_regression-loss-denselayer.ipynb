{
 "cells": [
  {
   "cell_type": "code",
   "execution_count": 1,
   "metadata": {},
   "outputs": [
    {
     "name": "stdout",
     "output_type": "stream",
     "text": [
      "2.0.0\n",
      "sys.version_info(major=3, minor=7, micro=4, releaselevel='final', serial=0)\n",
      "matplotlib 3.1.1\n",
      "numpy 1.17.2\n",
      "pandas 0.25.1\n",
      "sklearn 0.21.3\n",
      "tensorflow 2.0.0\n",
      "tensorflow_core.keras 2.2.4-tf\n"
     ]
    }
   ],
   "source": [
    "import matplotlib as mpl\n",
    "import matplotlib.pyplot as plt\n",
    "%matplotlib inline\n",
    "import numpy as np\n",
    "import sklearn\n",
    "import pandas as pd\n",
    "import os\n",
    "import sys\n",
    "import time\n",
    "import tensorflow as tf\n",
    "\n",
    "from tensorflow import keras\n",
    "\n",
    "print(tf.__version__)\n",
    "print(sys.version_info)\n",
    "for module in mpl, np, pd, sklearn, tf, keras:\n",
    "    print(module.__name__, module.__version__)"
   ]
  },
  {
   "cell_type": "code",
   "execution_count": 2,
   "metadata": {},
   "outputs": [
    {
     "name": "stdout",
     "output_type": "stream",
     "text": [
      ".. _california_housing_dataset:\n",
      "\n",
      "California Housing dataset\n",
      "--------------------------\n",
      "\n",
      "**Data Set Characteristics:**\n",
      "\n",
      "    :Number of Instances: 20640\n",
      "\n",
      "    :Number of Attributes: 8 numeric, predictive attributes and the target\n",
      "\n",
      "    :Attribute Information:\n",
      "        - MedInc        median income in block\n",
      "        - HouseAge      median house age in block\n",
      "        - AveRooms      average number of rooms\n",
      "        - AveBedrms     average number of bedrooms\n",
      "        - Population    block population\n",
      "        - AveOccup      average house occupancy\n",
      "        - Latitude      house block latitude\n",
      "        - Longitude     house block longitude\n",
      "\n",
      "    :Missing Attribute Values: None\n",
      "\n",
      "This dataset was obtained from the StatLib repository.\n",
      "http://lib.stat.cmu.edu/datasets/\n",
      "\n",
      "The target variable is the median house value for California districts.\n",
      "\n",
      "This dataset was derived from the 1990 U.S. census, using one row per census\n",
      "block group. A block group is the smallest geographical unit for which the U.S.\n",
      "Census Bureau publishes sample data (a block group typically has a population\n",
      "of 600 to 3,000 people).\n",
      "\n",
      "It can be downloaded/loaded using the\n",
      ":func:`sklearn.datasets.fetch_california_housing` function.\n",
      "\n",
      ".. topic:: References\n",
      "\n",
      "    - Pace, R. Kelley and Ronald Barry, Sparse Spatial Autoregressions,\n",
      "      Statistics and Probability Letters, 33 (1997) 291-297\n",
      "\n",
      "(20640, 8)\n",
      "(20640,)\n"
     ]
    }
   ],
   "source": [
    "from sklearn.datasets import fetch_california_housing\n",
    "\n",
    "housing = fetch_california_housing()\n",
    "print(housing.DESCR)\n",
    "print(housing.data.shape)\n",
    "print(housing.target.shape)"
   ]
  },
  {
   "cell_type": "code",
   "execution_count": 3,
   "metadata": {},
   "outputs": [
    {
     "name": "stdout",
     "output_type": "stream",
     "text": [
      "(11610, 8) (11610,)\n",
      "(3870, 8) (3870,)\n",
      "(5160, 8) (5160,)\n"
     ]
    }
   ],
   "source": [
    "from sklearn.model_selection import train_test_split\n",
    "\n",
    "X_train, X_test, y_train, y_test = train_test_split(\n",
    "    housing.data, housing.target, random_state = 7)\n",
    "X_train, X_val, y_train, y_val = train_test_split(\n",
    "    X_train, y_train, random_state = 11)\n",
    "print(X_train.shape, y_train.shape)\n",
    "print(X_val.shape, y_val.shape)\n",
    "print(X_test.shape, y_test.shape)"
   ]
  },
  {
   "cell_type": "code",
   "execution_count": 4,
   "metadata": {},
   "outputs": [],
   "source": [
    "from sklearn.preprocessing import StandardScaler\n",
    "\n",
    "scaler = StandardScaler()\n",
    "X_train = scaler.fit_transform(X_train)\n",
    "X_val = scaler.transform(X_val)\n",
    "X_test = scaler.transform(X_test)"
   ]
  },
  {
   "cell_type": "code",
   "execution_count": 5,
   "metadata": {
    "scrolled": true
   },
   "outputs": [
    {
     "data": {
      "text/plain": [
       "(11610, 8)"
      ]
     },
     "execution_count": 5,
     "metadata": {},
     "output_type": "execute_result"
    }
   ],
   "source": [
    "X_train.shape"
   ]
  },
  {
   "cell_type": "code",
   "execution_count": 6,
   "metadata": {},
   "outputs": [
    {
     "data": {
      "text/plain": [
       "(8,)"
      ]
     },
     "execution_count": 6,
     "metadata": {},
     "output_type": "execute_result"
    }
   ],
   "source": [
    "X_train.shape[1:]"
   ]
  },
  {
   "cell_type": "code",
   "execution_count": 7,
   "metadata": {},
   "outputs": [
    {
     "data": {
      "text/plain": [
       "[<tf.Variable 'dense_1/kernel:0' shape=(5, 100) dtype=float32, numpy=\n",
       " array([[-0.20634973, -0.15688755, -0.2022606 ,  0.15898477,  0.09511502,\n",
       "         -0.0490035 ,  0.10637717, -0.23766632, -0.11466946,  0.0819131 ,\n",
       "         -0.00297675, -0.01546703, -0.01701587,  0.20919316,  0.20300321,\n",
       "         -0.2093059 , -0.20762968, -0.20207594,  0.0462084 , -0.11583884,\n",
       "          0.06614111,  0.09055419,  0.09322514, -0.22951041,  0.02342956,\n",
       "          0.05513977,  0.07193007,  0.13190778,  0.2215466 ,  0.01785178,\n",
       "         -0.03869256, -0.23828925,  0.05751626, -0.06896442, -0.21920523,\n",
       "         -0.23123102,  0.09649007, -0.19421126,  0.01169278, -0.08160996,\n",
       "         -0.12790316, -0.00991842,  0.01243638,  0.12903617, -0.11284922,\n",
       "         -0.0678575 , -0.08284083,  0.21191747,  0.14014627, -0.2284243 ,\n",
       "          0.01757313,  0.0759659 , -0.15247327, -0.00298136, -0.22997336,\n",
       "          0.06487341,  0.00569507,  0.13789771,  0.18328975,  0.23238446,\n",
       "          0.17198698,  0.20278601,  0.21653141, -0.1468202 ,  0.15228795,\n",
       "          0.06414674, -0.01259544, -0.13283002,  0.12792619,  0.10603063,\n",
       "         -0.15242529,  0.14834039, -0.17577454,  0.12545629, -0.15947075,\n",
       "         -0.02659416, -0.06893188,  0.17041774,  0.12419315, -0.03535381,\n",
       "         -0.11123642, -0.10186359, -0.02598108, -0.08565994,  0.18633051,\n",
       "         -0.10702506,  0.05915199,  0.22791319,  0.13630821, -0.2081572 ,\n",
       "          0.04420407, -0.1279482 ,  0.05089186,  0.1458749 ,  0.10382523,\n",
       "          0.18040676, -0.15763815, -0.10918964, -0.16219907, -0.22727622],\n",
       "        [-0.10941118,  0.2003567 , -0.01649734, -0.21803403,  0.15381365,\n",
       "         -0.02644917,  0.05632646, -0.1853402 ,  0.11137713, -0.17310387,\n",
       "         -0.08508146, -0.04461128,  0.21552889, -0.05153194,  0.13796328,\n",
       "         -0.22296488, -0.20840016,  0.23532881, -0.03974608,  0.14624931,\n",
       "         -0.04505578,  0.09166722,  0.07502733, -0.21098849,  0.11852701,\n",
       "          0.1951908 , -0.23543847, -0.06447406,  0.20225517, -0.04788502,\n",
       "          0.21056007,  0.14077888,  0.18123569,  0.22984912, -0.0683852 ,\n",
       "          0.09407653,  0.13737129, -0.12821701, -0.04643421, -0.03106582,\n",
       "          0.1127211 , -0.06815547,  0.071622  ,  0.22842954, -0.01460712,\n",
       "         -0.1489127 ,  0.1344182 , -0.17596543, -0.16949353,  0.20812722,\n",
       "         -0.15396342,  0.00805253, -0.1318432 ,  0.08635999, -0.16936183,\n",
       "         -0.20884682,  0.21007182,  0.15075402,  0.02080731, -0.20144634,\n",
       "          0.06424101,  0.08562852,  0.12738477, -0.20076835,  0.21462248,\n",
       "          0.01044077,  0.2085566 , -0.04844913, -0.10570036,  0.10058902,\n",
       "         -0.2019937 ,  0.17059796,  0.11850758, -0.14456385, -0.19186936,\n",
       "         -0.00344738, -0.15998745, -0.1468247 ,  0.15281068,  0.16319616,\n",
       "         -0.03310515,  0.0523148 , -0.14802805, -0.2187832 , -0.20967339,\n",
       "          0.10217907, -0.09657939, -0.0807146 , -0.15976375, -0.11019562,\n",
       "          0.10377042,  0.04173888, -0.23845825,  0.11710949,  0.04315706,\n",
       "          0.17928533, -0.02321447, -0.21669593, -0.01887202,  0.01700042],\n",
       "        [ 0.18658976,  0.19690965, -0.02577694, -0.18354286, -0.0437675 ,\n",
       "          0.04082005,  0.10674725, -0.20926464, -0.01054706, -0.0222158 ,\n",
       "         -0.01840474, -0.04536353,  0.12350793, -0.05900149,  0.20868067,\n",
       "         -0.03126462,  0.14870189,  0.22712429, -0.04769927, -0.18540272,\n",
       "         -0.22323206,  0.17932783,  0.08883433,  0.11215515, -0.12514293,\n",
       "          0.11892502,  0.15048079,  0.11788322, -0.1215395 ,  0.19200785,\n",
       "          0.0486135 ,  0.19661663, -0.09007728,  0.22278832, -0.11844741,\n",
       "          0.1588986 , -0.23092799,  0.19302975,  0.23785292, -0.04140829,\n",
       "          0.09453584, -0.00928888,  0.14196543,  0.18410893, -0.167514  ,\n",
       "          0.15921418,  0.13615318, -0.1283456 ,  0.17875142, -0.15305506,\n",
       "         -0.07315928,  0.1793492 ,  0.19692264,  0.09573402, -0.21783386,\n",
       "         -0.03543034,  0.06774278,  0.113032  ,  0.03218932, -0.13259527,\n",
       "          0.22673132, -0.1810806 , -0.2106951 ,  0.07930933, -0.20926633,\n",
       "         -0.21270518, -0.01980795,  0.009333  ,  0.13582923, -0.23106176,\n",
       "          0.15180229, -0.10660347, -0.0558324 ,  0.16178347, -0.17693739,\n",
       "          0.07128705,  0.10981418, -0.18501072,  0.16733845, -0.2227381 ,\n",
       "          0.18415736,  0.15575089,  0.14038815, -0.21055421, -0.13956755,\n",
       "          0.21004693,  0.12636231, -0.18134704, -0.07661128,  0.09874551,\n",
       "         -0.23310603,  0.07481121,  0.0090306 ,  0.05897613, -0.12816909,\n",
       "         -0.06001243,  0.0475881 , -0.03262059, -0.1382924 , -0.05143921],\n",
       "        [-0.00714749,  0.10209014,  0.18059109, -0.18196079, -0.22943592,\n",
       "          0.12484248,  0.23465489, -0.01381133, -0.0308802 ,  0.19589739,\n",
       "          0.1372072 ,  0.02851732, -0.04223308,  0.02399825, -0.0738368 ,\n",
       "         -0.12927431, -0.02925852, -0.17277741,  0.01877798,  0.19320123,\n",
       "         -0.14208215,  0.15356447,  0.06636994, -0.11498713,  0.14936082,\n",
       "          0.20548008,  0.15198235,  0.09710781, -0.17749688, -0.03732678,\n",
       "         -0.13308758, -0.0219934 , -0.18799612,  0.01185025, -0.06265889,\n",
       "          0.08250742,  0.12526001, -0.13709413, -0.15512818,  0.20671488,\n",
       "          0.23271485, -0.12086602, -0.12725241, -0.06092323, -0.01115261,\n",
       "         -0.20960687, -0.14955285, -0.12747726, -0.13259733,  0.00347885,\n",
       "          0.07608776,  0.03386714,  0.00113632,  0.10698624, -0.02960208,\n",
       "          0.21216984, -0.11157006,  0.16134657, -0.20241602,  0.23659296,\n",
       "         -0.03555556,  0.01416846, -0.10956442,  0.0508789 ,  0.1483727 ,\n",
       "         -0.22782615,  0.01385988, -0.00583094, -0.14037265, -0.23010485,\n",
       "         -0.02936321,  0.18548916, -0.2198925 , -0.01218732, -0.04102671,\n",
       "         -0.12970898,  0.13668664, -0.01295763,  0.0911511 , -0.13988872,\n",
       "         -0.09492305,  0.19953085,  0.19262354,  0.07065655, -0.01608843,\n",
       "          0.10224824,  0.0802301 ,  0.00906929, -0.07470071, -0.18173943,\n",
       "         -0.03861123, -0.09270176,  0.01515226,  0.02518223,  0.13783275,\n",
       "          0.03643133, -0.00926352,  0.21089007,  0.17912807, -0.08576931],\n",
       "        [ 0.06783323,  0.08697738,  0.04595365, -0.09389542, -0.03611273,\n",
       "          0.01817586, -0.13489284,  0.21317263,  0.11749683,  0.01998253,\n",
       "         -0.109464  , -0.2119421 ,  0.04238971,  0.08152716,  0.21062197,\n",
       "         -0.21674627,  0.15857916,  0.00334246, -0.22264174,  0.08758788,\n",
       "          0.2013173 ,  0.1883512 ,  0.01905365, -0.19171855, -0.04291819,\n",
       "         -0.0406061 ,  0.00316618, -0.03650136, -0.22044995, -0.16395444,\n",
       "          0.20211591, -0.19165199, -0.19021896, -0.03527869,  0.18285073,\n",
       "         -0.2291844 , -0.06479032,  0.06290118, -0.22771142,  0.21606372,\n",
       "          0.01301046, -0.07004192,  0.01824759,  0.12276308,  0.2311873 ,\n",
       "         -0.13953081,  0.14501123,  0.2049488 ,  0.10962711,  0.14804275,\n",
       "         -0.07821688, -0.02968027, -0.19987544, -0.08037321, -0.14774   ,\n",
       "          0.18265052,  0.13102494, -0.11381137,  0.05399336,  0.13699679,\n",
       "         -0.2111495 , -0.17249045,  0.08662607, -0.10784501,  0.07719974,\n",
       "         -0.15973292,  0.03435473, -0.17858955,  0.01971985, -0.02390148,\n",
       "          0.21976449,  0.14253865, -0.0258728 ,  0.02490585, -0.00122158,\n",
       "         -0.22146717,  0.19401892,  0.02369003,  0.20017152, -0.12168204,\n",
       "         -0.18377489, -0.08678053,  0.20309727, -0.18534054, -0.0737817 ,\n",
       "         -0.10992211,  0.0581315 , -0.16840154,  0.08224265, -0.2261228 ,\n",
       "         -0.20173135,  0.23881759,  0.19945587, -0.07806933, -0.01550254,\n",
       "          0.0190777 , -0.18055359,  0.05981676,  0.00624654,  0.02383153]],\n",
       "       dtype=float32)>,\n",
       " <tf.Variable 'dense_1/bias:0' shape=(100,) dtype=float32, numpy=\n",
       " array([0., 0., 0., 0., 0., 0., 0., 0., 0., 0., 0., 0., 0., 0., 0., 0., 0.,\n",
       "        0., 0., 0., 0., 0., 0., 0., 0., 0., 0., 0., 0., 0., 0., 0., 0., 0.,\n",
       "        0., 0., 0., 0., 0., 0., 0., 0., 0., 0., 0., 0., 0., 0., 0., 0., 0.,\n",
       "        0., 0., 0., 0., 0., 0., 0., 0., 0., 0., 0., 0., 0., 0., 0., 0., 0.,\n",
       "        0., 0., 0., 0., 0., 0., 0., 0., 0., 0., 0., 0., 0., 0., 0., 0., 0.,\n",
       "        0., 0., 0., 0., 0., 0., 0., 0., 0., 0., 0., 0., 0., 0., 0.],\n",
       "       dtype=float32)>]"
      ]
     },
     "execution_count": 7,
     "metadata": {},
     "output_type": "execute_result"
    }
   ],
   "source": [
    "# dense layer\n",
    "layer = tf.keras.layers.Dense(100)\n",
    "layer = tf.keras.layers.Dense(100, input_shape=(None, 5))\n",
    "layer(tf.zeros([10, 5]))\n",
    "\n",
    "# layer.variables\n",
    "# x * W + b\n",
    "layer.trainable_variables"
   ]
  },
  {
   "cell_type": "code",
   "execution_count": 11,
   "metadata": {},
   "outputs": [],
   "source": [
    "class CustomizedDenseLayer(keras.layers.Layer):\n",
    "    def __init__(self,units,activation,**kwargs):\n",
    "        self.units = units\n",
    "        self.activation = keras.layers.Activation(activation)\n",
    "        super(CustomizedDenseLayer,self).__init__(**kwargs)\n",
    "    \n",
    "    def build(self , input_shape):\n",
    "        \"\"\"构建所需要的参数\"\"\"\n",
    "        # x * w + b \n",
    "        # input_shape:[None, a] \n",
    "        # w:[a,b] \n",
    "        # output_shape: [None, b]\n",
    "        self.kernel = self.add_weight(\n",
    "            name = 'kernel'\n",
    "            , shape = (input_shape[1],self.units) # 相当于矩阵乘法 a,b * b,c = a,c\n",
    "            , initializer = 'uniform' # 如何初始化参数矩阵 ， 随机化分布，uniform\n",
    "            , trainable=True # 可被训练， 如果不变设置为 False\n",
    "        )\n",
    "        self.bias = self.add_weight(\n",
    "            name = 'bias'\n",
    "            , shape = (self.units)\n",
    "            , initializer = 'zeros'\n",
    "            , trainable=True\n",
    "        )\n",
    "        super(CustomizedDenseLayer,self).build(input_shape)\n",
    "        \n",
    "    def call(self):\n",
    "        '''完成正向计算'''\n",
    "        return self.activation(x @ self.kernel + bias)\n",
    "        "
   ]
  },
  {
   "cell_type": "code",
   "execution_count": null,
   "metadata": {},
   "outputs": [],
   "source": [
    "# tf.nn.softplus : log(1+e^x)\n",
    "customized_softplus = keras.layers.Lambda(lambda x : tf.nn.softplus(x))\n",
    "print(customized_softplus([-10., -5., 0., 5., 10.]))"
   ]
  },
  {
   "cell_type": "code",
   "execution_count": null,
   "metadata": {},
   "outputs": [],
   "source": [
    "def mse(y_true,y_pred):\n",
    "    return tf.reduce_mean(tf.square(y_pred-y_true))\n",
    "model = keras.models.Sequential([\n",
    "    keras.layers.Dense(30,activation='relu',input_shape=X_train.shape[1:])\n",
    "    ,keras.layers.Dense(1)\n",
    "])\n",
    "model.summary()\n",
    "call_backs=[\n",
    "    keras.callbacks.EarlyStopping(patience=5,min_delta=1e-3)\n",
    "]\n",
    "model.compile(loss=mse,optimizer=keras.optimizers.SGD(),metric=keras.metrics.mean_squared_error)"
   ]
  },
  {
   "cell_type": "code",
   "execution_count": null,
   "metadata": {},
   "outputs": [],
   "source": [
    "history_model=model.fit(X_train,y_train,validation_data=(X_val,y_val),epochs=50,callbacks=call_backs)"
   ]
  },
  {
   "cell_type": "code",
   "execution_count": null,
   "metadata": {},
   "outputs": [],
   "source": [
    "def plot_learning_curves(history):\n",
    "    pd.DataFrame(history.history).plot(figsize=(8, 5))\n",
    "    plt.grid(True)\n",
    "    plt.gca().set_ylim(0, 1)\n",
    "    plt.show()\n",
    "plot_learning_curves(history)"
   ]
  }
 ],
 "metadata": {
  "kernelspec": {
   "display_name": "Python 3",
   "language": "python",
   "name": "python3"
  },
  "language_info": {
   "codemirror_mode": {
    "name": "ipython",
    "version": 3
   },
   "file_extension": ".py",
   "mimetype": "text/x-python",
   "name": "python",
   "nbconvert_exporter": "python",
   "pygments_lexer": "ipython3",
   "version": "3.7.4"
  }
 },
 "nbformat": 4,
 "nbformat_minor": 2
}
