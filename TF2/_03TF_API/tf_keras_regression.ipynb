{
 "cells": [
  {
   "cell_type": "code",
   "execution_count": 1,
   "metadata": {},
   "outputs": [
    {
     "name": "stdout",
     "output_type": "stream",
     "text": [
      "2.0.0\n",
      "sys.version_info(major=3, minor=7, micro=4, releaselevel='final', serial=0)\n",
      "matplotlib 3.1.1\n",
      "numpy 1.17.2\n",
      "pandas 0.25.1\n",
      "sklearn 0.21.3\n",
      "tensorflow 2.0.0\n",
      "tensorflow_core.keras 2.2.4-tf\n"
     ]
    }
   ],
   "source": [
    "import matplotlib as mpl\n",
    "import matplotlib.pyplot as plt\n",
    "%matplotlib inline\n",
    "import numpy as np\n",
    "import sklearn\n",
    "import pandas as pd\n",
    "import os\n",
    "import sys\n",
    "import time\n",
    "import tensorflow as tf\n",
    "\n",
    "from tensorflow import keras\n",
    "\n",
    "print(tf.__version__)\n",
    "print(sys.version_info)\n",
    "for module in mpl, np, pd, sklearn, tf, keras:\n",
    "    print(module.__name__, module.__version__)"
   ]
  },
  {
   "cell_type": "code",
   "execution_count": 2,
   "metadata": {},
   "outputs": [
    {
     "name": "stdout",
     "output_type": "stream",
     "text": [
      ".. _california_housing_dataset:\n",
      "\n",
      "California Housing dataset\n",
      "--------------------------\n",
      "\n",
      "**Data Set Characteristics:**\n",
      "\n",
      "    :Number of Instances: 20640\n",
      "\n",
      "    :Number of Attributes: 8 numeric, predictive attributes and the target\n",
      "\n",
      "    :Attribute Information:\n",
      "        - MedInc        median income in block\n",
      "        - HouseAge      median house age in block\n",
      "        - AveRooms      average number of rooms\n",
      "        - AveBedrms     average number of bedrooms\n",
      "        - Population    block population\n",
      "        - AveOccup      average house occupancy\n",
      "        - Latitude      house block latitude\n",
      "        - Longitude     house block longitude\n",
      "\n",
      "    :Missing Attribute Values: None\n",
      "\n",
      "This dataset was obtained from the StatLib repository.\n",
      "http://lib.stat.cmu.edu/datasets/\n",
      "\n",
      "The target variable is the median house value for California districts.\n",
      "\n",
      "This dataset was derived from the 1990 U.S. census, using one row per census\n",
      "block group. A block group is the smallest geographical unit for which the U.S.\n",
      "Census Bureau publishes sample data (a block group typically has a population\n",
      "of 600 to 3,000 people).\n",
      "\n",
      "It can be downloaded/loaded using the\n",
      ":func:`sklearn.datasets.fetch_california_housing` function.\n",
      "\n",
      ".. topic:: References\n",
      "\n",
      "    - Pace, R. Kelley and Ronald Barry, Sparse Spatial Autoregressions,\n",
      "      Statistics and Probability Letters, 33 (1997) 291-297\n",
      "\n",
      "(20640, 8)\n",
      "(20640,)\n"
     ]
    }
   ],
   "source": [
    "from sklearn.datasets import fetch_california_housing\n",
    "\n",
    "housing = fetch_california_housing()\n",
    "print(housing.DESCR)\n",
    "print(housing.data.shape)\n",
    "print(housing.target.shape)"
   ]
  },
  {
   "cell_type": "code",
   "execution_count": 3,
   "metadata": {},
   "outputs": [
    {
     "name": "stdout",
     "output_type": "stream",
     "text": [
      "(11610, 8) (11610,)\n",
      "(3870, 8) (3870,)\n",
      "(5160, 8) (5160,)\n"
     ]
    }
   ],
   "source": [
    "from sklearn.model_selection import train_test_split\n",
    "\n",
    "X_train, X_test, y_train, y_test = train_test_split(\n",
    "    housing.data, housing.target, random_state = 7)\n",
    "X_train, X_val, y_train, y_val = train_test_split(\n",
    "    X_train, y_train, random_state = 11)\n",
    "print(X_train.shape, y_train.shape)\n",
    "print(X_val.shape, y_val.shape)\n",
    "print(X_test.shape, y_test.shape)"
   ]
  },
  {
   "cell_type": "code",
   "execution_count": 4,
   "metadata": {},
   "outputs": [],
   "source": [
    "from sklearn.preprocessing import StandardScaler\n",
    "\n",
    "scaler = StandardScaler()\n",
    "X_train = scaler.fit_transform(X_train)\n",
    "X_val = scaler.transform(X_val)\n",
    "X_test = scaler.transform(X_test)"
   ]
  },
  {
   "cell_type": "code",
   "execution_count": 5,
   "metadata": {
    "scrolled": true
   },
   "outputs": [
    {
     "data": {
      "text/plain": [
       "(11610, 8)"
      ]
     },
     "execution_count": 5,
     "metadata": {},
     "output_type": "execute_result"
    }
   ],
   "source": [
    "X_train.shape"
   ]
  },
  {
   "cell_type": "code",
   "execution_count": 6,
   "metadata": {},
   "outputs": [
    {
     "data": {
      "text/plain": [
       "(8,)"
      ]
     },
     "execution_count": 6,
     "metadata": {},
     "output_type": "execute_result"
    }
   ],
   "source": [
    "X_train.shape[1:]"
   ]
  },
  {
   "cell_type": "code",
   "execution_count": 7,
   "metadata": {},
   "outputs": [
    {
     "name": "stdout",
     "output_type": "stream",
     "text": [
      "Model: \"sequential\"\n",
      "_________________________________________________________________\n",
      "Layer (type)                 Output Shape              Param #   \n",
      "=================================================================\n",
      "dense (Dense)                (None, 30)                270       \n",
      "_________________________________________________________________\n",
      "dense_1 (Dense)              (None, 1)                 31        \n",
      "=================================================================\n",
      "Total params: 301\n",
      "Trainable params: 301\n",
      "Non-trainable params: 0\n",
      "_________________________________________________________________\n"
     ]
    }
   ],
   "source": [
    "model = keras.models.Sequential([\n",
    "    keras.layers.Dense(30,activation='relu',input_shape=X_train.shape[1:])\n",
    "    ,keras.layers.Dense(1)\n",
    "])\n",
    "model.summary()\n",
    "call_backs=[\n",
    "    keras.callbacks.EarlyStopping(patience=5,min_delta=1e-3)\n",
    "]\n",
    "model.compile(loss='mean_squared_error',optimizer='sgd')"
   ]
  },
  {
   "cell_type": "code",
   "execution_count": null,
   "metadata": {},
   "outputs": [
    {
     "name": "stdout",
     "output_type": "stream",
     "text": [
      "Train on 11610 samples, validate on 3870 samples\n",
      "Epoch 1/50\n",
      "11610/11610 [==============================] - 4s 334us/sample - loss: 0.8553 - val_loss: 0.5672\n",
      "Epoch 2/50\n",
      "11610/11610 [==============================] - 2s 206us/sample - loss: 0.4910 - val_loss: 0.4871\n",
      "Epoch 3/50\n",
      "11610/11610 [==============================] - 2s 164us/sample - loss: 0.4584 - val_loss: 0.4652\n",
      "Epoch 4/50\n",
      "11610/11610 [==============================] - 1s 124us/sample - loss: 0.4417 - val_loss: 0.4507\n",
      "Epoch 5/50\n",
      "11610/11610 [==============================] - 2s 148us/sample - loss: 0.4270 - val_loss: 0.4364\n",
      "Epoch 6/50\n",
      "11610/11610 [==============================] - 1s 110us/sample - loss: 0.4115 - val_loss: 0.4240\n",
      "Epoch 7/50\n",
      "11610/11610 [==============================] - 1s 117us/sample - loss: 0.4040 - val_loss: 0.4187\n",
      "Epoch 8/50\n",
      "11610/11610 [==============================] - 1s 122us/sample - loss: 0.3971 - val_loss: 0.4138\n",
      "Epoch 9/50\n",
      "11610/11610 [==============================] - 3s 220us/sample - loss: 0.3945 - val_loss: 0.4049\n",
      "Epoch 10/50\n",
      "11610/11610 [==============================] - 3s 222us/sample - loss: 0.3969 - val_loss: 0.4024\n",
      "Epoch 11/50\n",
      "11610/11610 [==============================] - 2s 144us/sample - loss: 0.3852 - val_loss: 0.4039\n",
      "Epoch 12/50\n",
      "11610/11610 [==============================] - 2s 155us/sample - loss: 0.3811 - val_loss: 0.3946\n",
      "Epoch 13/50\n",
      "11610/11610 [==============================] - 1s 99us/sample - loss: 0.3833 - val_loss: 0.3946\n",
      "Epoch 14/50\n",
      "11610/11610 [==============================] - 2s 156us/sample - loss: 0.3816 - val_loss: 0.3848\n",
      "Epoch 15/50\n",
      "11610/11610 [==============================] - 1s 121us/sample - loss: 0.3743 - val_loss: 0.3866\n",
      "Epoch 16/50\n",
      "11610/11610 [==============================] - 2s 148us/sample - loss: 0.3716 - val_loss: 0.3831\n",
      "Epoch 17/50\n",
      "11610/11610 [==============================] - 2s 148us/sample - loss: 0.3721 - val_loss: 0.3851\n",
      "Epoch 18/50\n",
      "11610/11610 [==============================] - 2s 149us/sample - loss: 0.3717 - val_loss: 0.3792\n",
      "Epoch 19/50\n",
      "11610/11610 [==============================] - 2s 153us/sample - loss: 0.3669 - val_loss: 0.4116\n",
      "Epoch 20/50\n",
      "11610/11610 [==============================] - 1s 93us/sample - loss: 0.3663 - val_loss: 0.3747\n",
      "Epoch 21/50\n",
      "11610/11610 [==============================] - 1s 100us/sample - loss: 0.3648 - val_loss: 0.3724\n",
      "Epoch 22/50\n",
      "11610/11610 [==============================] - 1s 103us/sample - loss: 0.3633 - val_loss: 0.3693\n",
      "Epoch 23/50\n",
      "11610/11610 [==============================] - 1s 125us/sample - loss: 0.3577 - val_loss: 0.3804\n",
      "Epoch 24/50\n",
      "11610/11610 [==============================] - 1s 124us/sample - loss: 0.3707 - val_loss: 0.3700\n",
      "Epoch 25/50\n",
      "11610/11610 [==============================] - 2s 147us/sample - loss: 0.3685 - val_loss: 0.3667\n",
      "Epoch 26/50\n",
      "11610/11610 [==============================] - 2s 177us/sample - loss: 0.3544 - val_loss: 0.3627\n",
      "Epoch 27/50\n",
      "11610/11610 [==============================] - 2s 139us/sample - loss: 0.3556 - val_loss: 0.4045\n",
      "Epoch 28/50\n",
      "11610/11610 [==============================] - 2s 140us/sample - loss: 0.3618 - val_loss: 0.3673\n",
      "Epoch 29/50\n",
      "11610/11610 [==============================] - 2s 175us/sample - loss: 0.3555 - val_loss: 0.3607A:  - ETA: 0s - loss: 0.35\n",
      "Epoch 30/50\n",
      "11610/11610 [==============================] - 2s 136us/sample - loss: 0.3514 - val_loss: 0.3578\n",
      "Epoch 31/50\n",
      "11610/11610 [==============================] - 2s 142us/sample - loss: 0.3541 - val_loss: 0.3625\n",
      "Epoch 32/50\n",
      "11610/11610 [==============================] - 2s 149us/sample - loss: 0.3527 - val_loss: 0.3567\n",
      "Epoch 33/50\n",
      "11610/11610 [==============================] - 1s 119us/sample - loss: 0.3455 - val_loss: 0.3581\n",
      "Epoch 34/50\n",
      "11610/11610 [==============================] - 1s 99us/sample - loss: 0.3505 - val_loss: 0.3598\n",
      "Epoch 35/50\n",
      "11610/11610 [==============================] - 1s 111us/sample - loss: 0.3447 - val_loss: 0.3545\n",
      "Epoch 36/50\n",
      "11610/11610 [==============================] - 1s 109us/sample - loss: 0.3455 - val_loss: 0.3509\n",
      "Epoch 37/50\n",
      "11610/11610 [==============================] - 1s 96us/sample - loss: 0.3425 - val_loss: 0.3515\n",
      "Epoch 38/50\n",
      "11610/11610 [==============================] - 1s 93us/sample - loss: 0.3601 - val_loss: 0.3516\n",
      "Epoch 39/50\n",
      "11610/11610 [==============================] - 1s 92us/sample - loss: 0.3413 - val_loss: 0.3482\n",
      "Epoch 40/50\n",
      "11610/11610 [==============================] - 1s 95us/sample - loss: 0.3407 - val_loss: 0.3505\n",
      "Epoch 41/50\n",
      "11610/11610 [==============================] - 1s 96us/sample - loss: 0.3522 - val_loss: 0.3510\n",
      "Epoch 42/50\n",
      "11610/11610 [==============================] - 1s 93us/sample - loss: 0.3800 - val_loss: 0.3550\n",
      "Epoch 43/50\n",
      "11610/11610 [==============================] - 1s 107us/sample - loss: 0.3408 - val_loss: 0.3490\n",
      "Epoch 44/50\n",
      "11610/11610 [==============================] - 1s 123us/sample - loss: 0.3390 - val_loss: 0.3459\n",
      "Epoch 45/50\n",
      "11610/11610 [==============================] - 1s 105us/sample - loss: 0.3419 - val_loss: 0.3498\n",
      "Epoch 46/50\n",
      "11610/11610 [==============================] - 1s 96us/sample - loss: 0.3396 - val_loss: 0.3477\n",
      "Epoch 47/50\n",
      "11610/11610 [==============================] - 1s 105us/sample - loss: 0.3515 - val_loss: 0.3433\n",
      "Epoch 48/50\n",
      "11610/11610 [==============================] - 1s 101us/sample - loss: 0.3338 - val_loss: 0.3414\n",
      "Epoch 49/50\n",
      "  736/11610 [>.............................] - ETA: 0s - loss: 0.3462"
     ]
    }
   ],
   "source": [
    "history_model=model.fit(X_train,y_train,validation_data=(X_val,y_val),epochs=50,callbacks=call_backs)"
   ]
  },
  {
   "cell_type": "code",
   "execution_count": null,
   "metadata": {},
   "outputs": [],
   "source": [
    "def plot_learning_curves(history):\n",
    "    pd.DataFrame(history.history).plot(figsize=(8, 5))\n",
    "    plt.grid(True)\n",
    "    plt.gca().set_ylim(0, 1)\n",
    "    plt.show()\n",
    "plot_learning_curves(history)"
   ]
  }
 ],
 "metadata": {
  "kernelspec": {
   "display_name": "Python 3",
   "language": "python",
   "name": "python3"
  },
  "language_info": {
   "codemirror_mode": {
    "name": "ipython",
    "version": 3
   },
   "file_extension": ".py",
   "mimetype": "text/x-python",
   "name": "python",
   "nbconvert_exporter": "python",
   "pygments_lexer": "ipython3",
   "version": "3.7.4"
  }
 },
 "nbformat": 4,
 "nbformat_minor": 2
}
