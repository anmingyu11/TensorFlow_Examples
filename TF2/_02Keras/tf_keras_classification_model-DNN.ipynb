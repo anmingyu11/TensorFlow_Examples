{
 "cells": [
  {
   "cell_type": "code",
   "execution_count": 1,
   "metadata": {},
   "outputs": [],
   "source": [
    "import numpy as np\n",
    "import matplotlib.pyplot as plt\n",
    "import matplotlib as mpl\n",
    "import pandas as pd\n",
    "import os\n",
    "import sys\n",
    "import sklearn\n",
    "import tensorflow as tf\n",
    "\n",
    "from tensorflow import keras\n",
    "from sklearn.model_selection import train_test_split\n",
    "# import keras"
   ]
  },
  {
   "cell_type": "code",
   "execution_count": 2,
   "metadata": {},
   "outputs": [
    {
     "name": "stdout",
     "output_type": "stream",
     "text": [
      "2.0.0\n"
     ]
    }
   ],
   "source": [
    "print(tf.__version__)"
   ]
  },
  {
   "cell_type": "code",
   "execution_count": 3,
   "metadata": {},
   "outputs": [
    {
     "name": "stdout",
     "output_type": "stream",
     "text": [
      "sys.version_info(major=3, minor=7, micro=4, releaselevel='final', serial=0)\n"
     ]
    }
   ],
   "source": [
    "print(sys.version_info)"
   ]
  },
  {
   "cell_type": "code",
   "execution_count": 4,
   "metadata": {},
   "outputs": [
    {
     "name": "stdout",
     "output_type": "stream",
     "text": [
      "matplotlib 3.1.1\n",
      "numpy 1.17.2\n",
      "pandas 0.25.1\n",
      "sklearn 0.21.3\n",
      "tensorflow 2.0.0\n",
      "tensorflow_core.keras 2.2.4-tf\n"
     ]
    }
   ],
   "source": [
    "for module in mpl,np,pd,sklearn,tf,keras:\n",
    "    print(module.__name__, module.__version__)"
   ]
  },
  {
   "cell_type": "code",
   "execution_count": 5,
   "metadata": {},
   "outputs": [],
   "source": [
    "fashion_mnist = keras.datasets.fashion_mnist\n",
    "(X,y),(X_test,y_test) = fashion_mnist.load_data()"
   ]
  },
  {
   "cell_type": "markdown",
   "metadata": {},
   "source": [
    "### 切分训练集和测试集"
   ]
  },
  {
   "cell_type": "code",
   "execution_count": 6,
   "metadata": {},
   "outputs": [],
   "source": [
    "# 切分训练集和验证集\n",
    "X.shape\n",
    "X_train,X_val,y_train,y_val = train_test_split(X,y,test_size=0.35)"
   ]
  },
  {
   "cell_type": "code",
   "execution_count": 7,
   "metadata": {},
   "outputs": [
    {
     "data": {
      "text/plain": [
       "(39000, 28, 28)"
      ]
     },
     "execution_count": 7,
     "metadata": {},
     "output_type": "execute_result"
    }
   ],
   "source": [
    "X_train.shape"
   ]
  },
  {
   "cell_type": "code",
   "execution_count": 8,
   "metadata": {},
   "outputs": [
    {
     "data": {
      "text/plain": [
       "(39000,)"
      ]
     },
     "execution_count": 8,
     "metadata": {},
     "output_type": "execute_result"
    }
   ],
   "source": [
    "y_train.shape"
   ]
  },
  {
   "cell_type": "code",
   "execution_count": 9,
   "metadata": {},
   "outputs": [
    {
     "data": {
      "text/plain": [
       "(21000, 28, 28)"
      ]
     },
     "execution_count": 9,
     "metadata": {},
     "output_type": "execute_result"
    }
   ],
   "source": [
    "X_val.shape"
   ]
  },
  {
   "cell_type": "code",
   "execution_count": 10,
   "metadata": {},
   "outputs": [
    {
     "data": {
      "text/plain": [
       "(21000,)"
      ]
     },
     "execution_count": 10,
     "metadata": {},
     "output_type": "execute_result"
    }
   ],
   "source": [
    "y_val.shape"
   ]
  },
  {
   "cell_type": "code",
   "execution_count": 11,
   "metadata": {},
   "outputs": [
    {
     "data": {
      "text/plain": [
       "(39000, 28, 28)"
      ]
     },
     "execution_count": 11,
     "metadata": {},
     "output_type": "execute_result"
    }
   ],
   "source": [
    "X_train.shape"
   ]
  },
  {
   "cell_type": "code",
   "execution_count": 12,
   "metadata": {},
   "outputs": [
    {
     "data": {
      "text/plain": [
       "28049"
      ]
     },
     "execution_count": 12,
     "metadata": {},
     "output_type": "execute_result"
    }
   ],
   "source": [
    "np.random.choice(len(X_train))"
   ]
  },
  {
   "cell_type": "code",
   "execution_count": 13,
   "metadata": {},
   "outputs": [
    {
     "data": {
      "image/png": "[encoded data removed]",
      "text/plain": [
       "<Figure size 432x288 with 1 Axes>"
      ]
     },
     "metadata": {
      "needs_background": "light"
     },
     "output_type": "display_data"
    }
   ],
   "source": [
    "def show_single_image(img):\n",
    "    plt.clf()\n",
    "    plt.imshow(img)\n",
    "    plt.show()\n",
    "\n",
    "show_single_image(X_train[np.random.choice(len(X_train))])"
   ]
  },
  {
   "cell_type": "code",
   "execution_count": 14,
   "metadata": {},
   "outputs": [],
   "source": [
    "from sklearn.preprocessing import StandardScaler\n",
    "standardScaler = StandardScaler()\n",
    "X_train = standardScaler.fit_transform(X_train.astype(np.float32).reshape(-1,1)).reshape(-1,28,28)\n",
    "X_val = standardScaler.fit_transform(X_val.astype(np.float32).reshape(-1,1)).reshape(-1,28,28)\n",
    "X_test = standardScaler.fit_transform(X_test.astype(np.float32).reshape(-1,1)).reshape(-1,28,28)"
   ]
  },
  {
   "cell_type": "code",
   "execution_count": 15,
   "metadata": {
    "scrolled": false
   },
   "outputs": [
    {
     "data": {
      "image/png": "[encoded data removed]",
      "text/plain": [
       "<Figure size 720x720 with 25 Axes>"
      ]
     },
     "metadata": {
      "needs_background": "light"
     },
     "output_type": "display_data"
    }
   ],
   "source": [
    "def show_images(r,c,X,y,class_names):\n",
    "    assert len(X)==len(y)\n",
    "    assert r*c != len(X)\n",
    "    plt.figure(figsize=(r*2,c*2))\n",
    "    for i in range(r):\n",
    "        for j in range(c):\n",
    "            idx = r * i + j\n",
    "            plt.subplot(r,c,idx+1)\n",
    "            plt.imshow(X[idx],interpolation='nearest',cmap='binary')\n",
    "            plt.axis('off')\n",
    "            plt.title(class_names[y[idx]])\n",
    "    plt.show()\n",
    "class_names = ['T-shirt', 'Trouser', 'Pullover', 'Dress',\n",
    "               'Coat', 'Sandal', 'Shirt', 'Sneaker',\n",
    "               'Bag', 'Ankle boot']\n",
    "\n",
    "show_images(5,5,X_train,y_train,class_names)"
   ]
  },
  {
   "cell_type": "code",
   "execution_count": 16,
   "metadata": {},
   "outputs": [],
   "source": [
    "model = keras.models.Sequential()\n",
    "model.add(keras.layers.Flatten(input_shape=[28,28])) # 将28*28的矩阵展成长度为28*28的一维向量\n",
    "for _ in range(20):\n",
    "    model.add(keras.layers.Dense(100,activation='selu'))# 自带归一化的激活函数\n",
    "    #model.add(keras.layers.BatchNormalization())\n",
    "    '''\n",
    "    model.add(keras.layers.Dense(100))\n",
    "    model.add(keras.layers.BatchNormalization())\n",
    "    model.add(keras.layers.Activation('relu'))\n",
    "    '''\n",
    "# AlphaDropout: 1. 均值和方差不变 2. 归一化性质也不变\n",
    "# model.add(keras.layers.Dropout(rate=0.5))\n",
    "model.add(keras.layers.AlphaDropout(rate=0.5))\n",
    "model.add(keras.layers.Dense(10, activation='softmax'))\n",
    "\n",
    "# relu y =max(0,x)\n",
    "# softmax : 将向量变成概率分布. x = [x1,x2,x3]\n",
    "# y = e^x1 /sum , e^x2 / sum, e^x3 / sum \n",
    "# sum = (e^x1 + e^x2 + e^x3)"
   ]
  },
  {
   "cell_type": "code",
   "execution_count": 17,
   "metadata": {},
   "outputs": [],
   "source": [
    "# why sparse y->index\n",
    "# y->one_hot->[]\n",
    "model.compile(\n",
    "    loss=\"sparse_categorical_crossentropy\"\n",
    "    ,optimizer = keras.optimizers.SGD(0.001)\n",
    "    ,metrics = [\"accuracy\"]\n",
    ")"
   ]
  },
  {
   "cell_type": "code",
   "execution_count": 18,
   "metadata": {},
   "outputs": [
    {
     "data": {
      "text/plain": [
       "[<tensorflow.python.keras.layers.core.Flatten at 0x1a3d591a10>,\n",
       " <tensorflow.python.keras.layers.core.Dense at 0x1a43f25690>,\n",
       " <tensorflow.python.keras.layers.core.Dense at 0x1a5bcb5790>,\n",
       " <tensorflow.python.keras.layers.core.Dense at 0x1a40c0f550>,\n",
       " <tensorflow.python.keras.layers.core.Dense at 0x1a40c0f7d0>,\n",
       " <tensorflow.python.keras.layers.core.Dense at 0x1a40c378d0>,\n",
       " <tensorflow.python.keras.layers.core.Dense at 0x1a40c67050>,\n",
       " <tensorflow.python.keras.layers.core.Dense at 0x1a40c6cf90>,\n",
       " <tensorflow.python.keras.layers.core.Dense at 0x1a40c9b750>,\n",
       " <tensorflow.python.keras.layers.core.Dense at 0x1a40ccae10>,\n",
       " <tensorflow.python.keras.layers.core.Dense at 0x1a40cf0850>,\n",
       " <tensorflow.python.keras.layers.core.Dense at 0x1a40d25a90>,\n",
       " <tensorflow.python.keras.layers.core.Dense at 0x1a40d421d0>,\n",
       " <tensorflow.python.keras.layers.core.Dense at 0x1a40d6a190>,\n",
       " <tensorflow.python.keras.layers.core.Dense at 0x1a40d76950>,\n",
       " <tensorflow.python.keras.layers.core.Dense at 0x1a40dad850>,\n",
       " <tensorflow.python.keras.layers.core.Dense at 0x1a40de0a10>,\n",
       " <tensorflow.python.keras.layers.core.Dense at 0x1a40d76c10>,\n",
       " <tensorflow.python.keras.layers.core.Dense at 0x1a40e29d50>,\n",
       " <tensorflow.python.keras.layers.core.Dense at 0x1a4107af90>,\n",
       " <tensorflow.python.keras.layers.core.Dense at 0x1a41095610>,\n",
       " <tensorflow.python.keras.layers.noise.AlphaDropout at 0x1a5bc982d0>,\n",
       " <tensorflow.python.keras.layers.core.Dense at 0x1a410a0810>]"
      ]
     },
     "execution_count": 18,
     "metadata": {},
     "output_type": "execute_result"
    }
   ],
   "source": [
    "model.layers"
   ]
  },
  {
   "cell_type": "code",
   "execution_count": 19,
   "metadata": {},
   "outputs": [
    {
     "name": "stdout",
     "output_type": "stream",
     "text": [
      "Model: \"sequential\"\n",
      "_________________________________________________________________\n",
      "Layer (type)                 Output Shape              Param #   \n",
      "=================================================================\n",
      "flatten (Flatten)            (None, 784)               0         \n",
      "_________________________________________________________________\n",
      "dense (Dense)                (None, 100)               78500     \n",
      "_________________________________________________________________\n",
      "dense_1 (Dense)              (None, 100)               10100     \n",
      "_________________________________________________________________\n",
      "dense_2 (Dense)              (None, 100)               10100     \n",
      "_________________________________________________________________\n",
      "dense_3 (Dense)              (None, 100)               10100     \n",
      "_________________________________________________________________\n",
      "dense_4 (Dense)              (None, 100)               10100     \n",
      "_________________________________________________________________\n",
      "dense_5 (Dense)              (None, 100)               10100     \n",
      "_________________________________________________________________\n",
      "dense_6 (Dense)              (None, 100)               10100     \n",
      "_________________________________________________________________\n",
      "dense_7 (Dense)              (None, 100)               10100     \n",
      "_________________________________________________________________\n",
      "dense_8 (Dense)              (None, 100)               10100     \n",
      "_________________________________________________________________\n",
      "dense_9 (Dense)              (None, 100)               10100     \n",
      "_________________________________________________________________\n",
      "dense_10 (Dense)             (None, 100)               10100     \n",
      "_________________________________________________________________\n",
      "dense_11 (Dense)             (None, 100)               10100     \n",
      "_________________________________________________________________\n",
      "dense_12 (Dense)             (None, 100)               10100     \n",
      "_________________________________________________________________\n",
      "dense_13 (Dense)             (None, 100)               10100     \n",
      "_________________________________________________________________\n",
      "dense_14 (Dense)             (None, 100)               10100     \n",
      "_________________________________________________________________\n",
      "dense_15 (Dense)             (None, 100)               10100     \n",
      "_________________________________________________________________\n",
      "dense_16 (Dense)             (None, 100)               10100     \n",
      "_________________________________________________________________\n",
      "dense_17 (Dense)             (None, 100)               10100     \n",
      "_________________________________________________________________\n",
      "dense_18 (Dense)             (None, 100)               10100     \n",
      "_________________________________________________________________\n",
      "dense_19 (Dense)             (None, 100)               10100     \n",
      "_________________________________________________________________\n",
      "alpha_dropout (AlphaDropout) (None, 100)               0         \n",
      "_________________________________________________________________\n",
      "dense_20 (Dense)             (None, 10)                1010      \n",
      "=================================================================\n",
      "Total params: 271,410\n",
      "Trainable params: 271,410\n",
      "Non-trainable params: 0\n",
      "_________________________________________________________________\n"
     ]
    }
   ],
   "source": [
    "model.summary()"
   ]
  },
  {
   "cell_type": "code",
   "execution_count": 20,
   "metadata": {},
   "outputs": [],
   "source": [
    "# 全连接层\n",
    "# 样本数 m\n",
    "# [m, 784] * W + b -> [m, 300] W.shape = [784, 300], b = [300]"
   ]
  },
  {
   "cell_type": "code",
   "execution_count": 21,
   "metadata": {},
   "outputs": [
    {
     "name": "stdout",
     "output_type": "stream",
     "text": [
      "Train on 39000 samples, validate on 21000 samples\n",
      "Epoch 1/10\n",
      "39000/39000 [==============================] - 60s 2ms/sample - loss: 1.2820 - accuracy: 0.5561 - val_loss: 0.8754 - val_accuracy: 0.7666\n",
      "Epoch 2/10\n",
      "39000/39000 [==============================] - 69s 2ms/sample - loss: 0.7674 - accuracy: 0.7427 - val_loss: 0.7861 - val_accuracy: 0.8049\n",
      "Epoch 3/10\n",
      "39000/39000 [==============================] - 73s 2ms/sample - loss: 0.6315 - accuracy: 0.7938 - val_loss: 0.7614 - val_accuracy: 0.8263\n",
      "Epoch 4/10\n",
      "39000/39000 [==============================] - 55s 1ms/sample - loss: 0.5593 - accuracy: 0.8167 - val_loss: 0.7263 - val_accuracy: 0.8331\n",
      "Epoch 5/10\n",
      "39000/39000 [==============================] - 49s 1ms/sample - loss: 0.5203 - accuracy: 0.8292 - val_loss: 0.7008 - val_accuracy: 0.8406\n",
      "Epoch 6/10\n",
      "39000/39000 [==============================] - 48s 1ms/sample - loss: 0.4878 - accuracy: 0.8404 - val_loss: 0.7067 - val_accuracy: 0.8411\n",
      "Epoch 7/10\n",
      "39000/39000 [==============================] - 46s 1ms/sample - loss: 0.4581 - accuracy: 0.8483 - val_loss: 0.7110 - val_accuracy: 0.8441\n",
      "Epoch 8/10\n",
      "39000/39000 [==============================] - 43s 1ms/sample - loss: 0.4368 - accuracy: 0.8562 - val_loss: 0.6328 - val_accuracy: 0.8538\n",
      "Epoch 9/10\n",
      "39000/39000 [==============================] - 43s 1ms/sample - loss: 0.4182 - accuracy: 0.8603 - val_loss: 0.6379 - val_accuracy: 0.8547\n",
      "Epoch 10/10\n",
      "39000/39000 [==============================] - 43s 1ms/sample - loss: 0.4031 - accuracy: 0.8641 - val_loss: 0.6455 - val_accuracy: 0.8571\n"
     ]
    }
   ],
   "source": [
    "log_dir= './callbacks'\n",
    "if not os.path.exists(log_dir):\n",
    "    os.mkdir(log_dir)\n",
    "output_model_file = os.path.join(log_dir,\"fashion_mnist_model.h5\")\n",
    "\n",
    "call_backs = [\n",
    "    keras.callbacks.TensorBoard(log_dir),\n",
    "    keras.callbacks.ModelCheckpoint(output_model_file,\n",
    "                                    save_best_only = True),\n",
    "    keras.callbacks.EarlyStopping(patience=5, min_delta=1e-3)# 连续训练patience次差距比mindelta小时提前关闭掉\n",
    "]\n",
    "history = model.fit(X_train,y_train,epochs=10,validation_data=(X_val,y_val),callbacks=call_backs)\n",
    "# 1. 参数众多，训练不充分\n",
    "# 2. 梯度消失 -> 链式法则 -> 复合函数f(g(x))\n",
    "#    批归一化缓解梯度消失"
   ]
  },
  {
   "cell_type": "code",
   "execution_count": 22,
   "metadata": {},
   "outputs": [
    {
     "data": {
      "image/png": "[encoded data removed]",
      "text/plain": [
       "<Figure size 576x360 with 1 Axes>"
      ]
     },
     "metadata": {
      "needs_background": "light"
     },
     "output_type": "display_data"
    }
   ],
   "source": [
    "def plot_learning_curves(history):\n",
    "    pd.DataFrame(history.history).plot(figsize=(8, 5))\n",
    "    plt.grid(True)\n",
    "    plt.gca().set_ylim(0, 3)\n",
    "    plt.show()\n",
    "\n",
    "plot_learning_curves(history)\n"
   ]
  },
  {
   "cell_type": "code",
   "execution_count": 23,
   "metadata": {},
   "outputs": [
    {
     "data": {
      "text/plain": [
       "[0.7127034857273101, 0.8463]"
      ]
     },
     "execution_count": 23,
     "metadata": {},
     "output_type": "execute_result"
    }
   ],
   "source": [
    "model.evaluate(X_test, y_test, verbose=0)"
   ]
  }
 ],
 "metadata": {
  "kernelspec": {
   "display_name": "Python 3",
   "language": "python",
   "name": "python3"
  },
  "language_info": {
   "codemirror_mode": {
    "name": "ipython",
    "version": 3
   },
   "file_extension": ".py",
   "mimetype": "text/x-python",
   "name": "python",
   "nbconvert_exporter": "python",
   "pygments_lexer": "ipython3",
   "version": "3.7.4"
  }
 },
 "nbformat": 4,
 "nbformat_minor": 2
}
