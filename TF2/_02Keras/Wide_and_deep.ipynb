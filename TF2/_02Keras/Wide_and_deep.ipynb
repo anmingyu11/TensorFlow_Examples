{
 "cells": [
  {
   "cell_type": "code",
   "execution_count": 1,
   "metadata": {},
   "outputs": [
    {
     "name": "stdout",
     "output_type": "stream",
     "text": [
      "2.0.0\n",
      "sys.version_info(major=3, minor=7, micro=4, releaselevel='final', serial=0)\n",
      "matplotlib 3.1.1\n",
      "numpy 1.17.2\n",
      "pandas 0.25.1\n",
      "sklearn 0.21.3\n",
      "tensorflow 2.0.0\n",
      "tensorflow_core.keras 2.2.4-tf\n"
     ]
    }
   ],
   "source": [
    "import matplotlib as mpl\n",
    "import matplotlib.pyplot as plt\n",
    "%matplotlib inline\n",
    "import numpy as np\n",
    "import sklearn\n",
    "import pandas as pd\n",
    "import os\n",
    "import sys\n",
    "import time\n",
    "import tensorflow as tf\n",
    "\n",
    "from tensorflow import keras\n",
    "\n",
    "print(tf.__version__)\n",
    "print(sys.version_info)\n",
    "for module in mpl, np, pd, sklearn, tf, keras:\n",
    "    print(module.__name__, module.__version__)"
   ]
  },
  {
   "cell_type": "code",
   "execution_count": 2,
   "metadata": {},
   "outputs": [
    {
     "name": "stdout",
     "output_type": "stream",
     "text": [
      ".. _california_housing_dataset:\n",
      "\n",
      "California Housing dataset\n",
      "--------------------------\n",
      "\n",
      "**Data Set Characteristics:**\n",
      "\n",
      "    :Number of Instances: 20640\n",
      "\n",
      "    :Number of Attributes: 8 numeric, predictive attributes and the target\n",
      "\n",
      "    :Attribute Information:\n",
      "        - MedInc        median income in block\n",
      "        - HouseAge      median house age in block\n",
      "        - AveRooms      average number of rooms\n",
      "        - AveBedrms     average number of bedrooms\n",
      "        - Population    block population\n",
      "        - AveOccup      average house occupancy\n",
      "        - Latitude      house block latitude\n",
      "        - Longitude     house block longitude\n",
      "\n",
      "    :Missing Attribute Values: None\n",
      "\n",
      "This dataset was obtained from the StatLib repository.\n",
      "http://lib.stat.cmu.edu/datasets/\n",
      "\n",
      "The target variable is the median house value for California districts.\n",
      "\n",
      "This dataset was derived from the 1990 U.S. census, using one row per census\n",
      "block group. A block group is the smallest geographical unit for which the U.S.\n",
      "Census Bureau publishes sample data (a block group typically has a population\n",
      "of 600 to 3,000 people).\n",
      "\n",
      "It can be downloaded/loaded using the\n",
      ":func:`sklearn.datasets.fetch_california_housing` function.\n",
      "\n",
      ".. topic:: References\n",
      "\n",
      "    - Pace, R. Kelley and Ronald Barry, Sparse Spatial Autoregressions,\n",
      "      Statistics and Probability Letters, 33 (1997) 291-297\n",
      "\n",
      "(20640, 8)\n",
      "(20640,)\n"
     ]
    }
   ],
   "source": [
    "from sklearn.datasets import fetch_california_housing\n",
    "\n",
    "housing = fetch_california_housing()\n",
    "print(housing.DESCR)\n",
    "print(housing.data.shape)\n",
    "print(housing.target.shape)"
   ]
  },
  {
   "cell_type": "code",
   "execution_count": 3,
   "metadata": {},
   "outputs": [
    {
     "name": "stdout",
     "output_type": "stream",
     "text": [
      "(11610, 8) (11610,)\n",
      "(3870, 8) (3870,)\n",
      "(5160, 8) (5160,)\n"
     ]
    }
   ],
   "source": [
    "from sklearn.model_selection import train_test_split\n",
    "\n",
    "X_train, X_test, y_train, y_test = train_test_split(\n",
    "    housing.data, housing.target, random_state = 7)\n",
    "X_train, X_val, y_train, y_val = train_test_split(\n",
    "    X_train, y_train, random_state = 11)\n",
    "print(X_train.shape, y_train.shape)\n",
    "print(X_val.shape, y_val.shape)\n",
    "print(X_test.shape, y_test.shape)"
   ]
  },
  {
   "cell_type": "code",
   "execution_count": 4,
   "metadata": {},
   "outputs": [],
   "source": [
    "from sklearn.preprocessing import StandardScaler\n",
    "\n",
    "scaler = StandardScaler()\n",
    "X_train = scaler.fit_transform(X_train)\n",
    "X_val = scaler.transform(X_val)\n",
    "X_test = scaler.transform(X_test)"
   ]
  },
  {
   "cell_type": "code",
   "execution_count": 5,
   "metadata": {},
   "outputs": [
    {
     "name": "stdout",
     "output_type": "stream",
     "text": [
      "Model: \"model\"\n",
      "__________________________________________________________________________________________________\n",
      "Layer (type)                    Output Shape         Param #     Connected to                     \n",
      "==================================================================================================\n",
      "input_1 (InputLayer)            [(None, 8)]          0                                            \n",
      "__________________________________________________________________________________________________\n",
      "dense (Dense)                   (None, 30)           270         input_1[0][0]                    \n",
      "__________________________________________________________________________________________________\n",
      "dense_1 (Dense)                 (None, 30)           930         dense[0][0]                      \n",
      "__________________________________________________________________________________________________\n",
      "concatenate (Concatenate)       (None, 38)           0           input_1[0][0]                    \n",
      "                                                                 dense_1[0][0]                    \n",
      "__________________________________________________________________________________________________\n",
      "dense_2 (Dense)                 (None, 1)            39          concatenate[0][0]                \n",
      "==================================================================================================\n",
      "Total params: 1,239\n",
      "Trainable params: 1,239\n",
      "Non-trainable params: 0\n",
      "__________________________________________________________________________________________________\n"
     ]
    }
   ],
   "source": [
    "# 函数式api 功能api\n",
    "input = keras.layers.Input(shape = X_train.shape[1:])\n",
    "hidden1 = keras.layers.Dense(30,activation='relu')(input)\n",
    "hidden2 = keras.layers.Dense(30,activation='relu')(hidden1)\n",
    "# 复合函数: f(x) = h(g(x))\n",
    "\n",
    "concat = keras.layers.concatenate([input,hidden2])\n",
    "output = keras.layers.Dense(1)(concat)\n",
    "\n",
    "model = keras.models.Model(\n",
    "    inputs=[input]\n",
    "    ,outputs=[output]\n",
    ")\n",
    "model.summary()\n",
    "model.compile(\n",
    "    loss='mean_squared_error'\n",
    "    ,optimizer=keras.optimizers.SGD(0.001)\n",
    ")\n",
    "call_backs=[\n",
    "    keras.callbacks.EarlyStopping(patience=5,min_delta=1e-3)\n",
    "]"
   ]
  },
  {
   "cell_type": "code",
   "execution_count": 6,
   "metadata": {},
   "outputs": [
    {
     "name": "stdout",
     "output_type": "stream",
     "text": [
      "Model: \"sequential\"\n",
      "_________________________________________________________________\n",
      "Layer (type)                 Output Shape              Param #   \n",
      "=================================================================\n",
      "wide_and_deep_model (WideAnd multiple                  1239      \n",
      "=================================================================\n",
      "Total params: 1,239\n",
      "Trainable params: 1,239\n",
      "Non-trainable params: 0\n",
      "_________________________________________________________________\n"
     ]
    }
   ],
   "source": [
    "# 子类api实现\n",
    "class WideAndDeepModel(keras.models.Model):\n",
    "    def __init__(self):\n",
    "        super(WideAndDeepModel,self).__init__()\n",
    "        '''定义模型的层次'''\n",
    "        self.hidden1_layer = keras.layers.Dense(30,activation='relu')\n",
    "        self.hidden2_layer = keras.layers.Dense(30,activation='relu')\n",
    "        self.output_layer = keras.layers.Dense(1) \n",
    "    \n",
    "    def call(self,input):\n",
    "        \"\"\"完成模型的正向计算\"\"\"\n",
    "        hidden1 = self.hidden1_layer(input)\n",
    "        hidden2 = self.hidden2_layer(hidden1)\n",
    "        concate = keras.layers.concatenate([input,hidden2])\n",
    "        output = self.output_layer(concate)\n",
    "        return output\n",
    "model = keras.models.Sequential([WideAndDeepModel()])\n",
    "model.build(input_shape=(None,8))\n",
    "\n",
    "model.summary()\n",
    "model.compile(\n",
    "    loss=keras.metrics.mean_squared_error\n",
    "    ,optimizer=keras.optimizers.SGD(0.001)\n",
    ")\n",
    "\n",
    "callbacks = [keras.callbacks.EarlyStopping(\n",
    "    patience=5, min_delta=1e-2)]"
   ]
  },
  {
   "cell_type": "code",
   "execution_count": 7,
   "metadata": {},
   "outputs": [
    {
     "name": "stdout",
     "output_type": "stream",
     "text": [
      "Train on 11610 samples, validate on 3870 samples\n",
      "Epoch 1/50\n",
      "11610/11610 [==============================] - 2s 192us/sample - loss: 1.8715 - val_loss: 0.8139\n",
      "Epoch 2/50\n",
      "11610/11610 [==============================] - 1s 101us/sample - loss: 0.6924 - val_loss: 0.7198\n",
      "Epoch 3/50\n",
      "11610/11610 [==============================] - 1s 100us/sample - loss: 0.6437 - val_loss: 0.6854\n",
      "Epoch 4/50\n",
      "11610/11610 [==============================] - 1s 99us/sample - loss: 0.6134 - val_loss: 0.6518\n",
      "Epoch 5/50\n",
      "11610/11610 [==============================] - 1s 103us/sample - loss: 0.5841 - val_loss: 0.6234\n",
      "Epoch 6/50\n",
      "11610/11610 [==============================] - 1s 112us/sample - loss: 0.5645 - val_loss: 0.5992\n",
      "Epoch 7/50\n",
      "11610/11610 [==============================] - 1s 104us/sample - loss: 0.5458 - val_loss: 0.5809\n",
      "Epoch 8/50\n",
      "11610/11610 [==============================] - 1s 105us/sample - loss: 0.5309 - val_loss: 0.5752\n",
      "Epoch 9/50\n",
      "11610/11610 [==============================] - 1s 100us/sample - loss: 0.5181 - val_loss: 0.5526\n",
      "Epoch 10/50\n",
      "11610/11610 [==============================] - 1s 100us/sample - loss: 0.5072 - val_loss: 0.5396\n",
      "Epoch 11/50\n",
      "11610/11610 [==============================] - 1s 100us/sample - loss: 0.4981 - val_loss: 0.5441\n",
      "Epoch 12/50\n",
      "11610/11610 [==============================] - 1s 102us/sample - loss: 0.4907 - val_loss: 0.5245\n",
      "Epoch 13/50\n",
      "11610/11610 [==============================] - 1s 101us/sample - loss: 0.4839 - val_loss: 0.5220\n",
      "Epoch 14/50\n",
      "11610/11610 [==============================] - 1s 102us/sample - loss: 0.4776 - val_loss: 0.5109\n",
      "Epoch 15/50\n",
      "11610/11610 [==============================] - 1s 100us/sample - loss: 0.4730 - val_loss: 0.5161\n",
      "Epoch 16/50\n",
      "11610/11610 [==============================] - 1s 101us/sample - loss: 0.4677 - val_loss: 0.5053\n",
      "Epoch 17/50\n",
      "11610/11610 [==============================] - 1s 100us/sample - loss: 0.4630 - val_loss: 0.4928\n",
      "Epoch 18/50\n",
      "11610/11610 [==============================] - 1s 100us/sample - loss: 0.4603 - val_loss: 0.4940\n",
      "Epoch 19/50\n",
      "11610/11610 [==============================] - 1s 100us/sample - loss: 0.4560 - val_loss: 0.4976\n",
      "Epoch 20/50\n",
      "11610/11610 [==============================] - 1s 100us/sample - loss: 0.4517 - val_loss: 0.4950\n",
      "Epoch 21/50\n",
      "11610/11610 [==============================] - 1s 100us/sample - loss: 0.4493 - val_loss: 0.4802\n",
      "Epoch 22/50\n",
      "11610/11610 [==============================] - 1s 99us/sample - loss: 0.4465 - val_loss: 0.4769\n",
      "Epoch 23/50\n",
      "11610/11610 [==============================] - 1s 100us/sample - loss: 0.4429 - val_loss: 0.4728\n",
      "Epoch 24/50\n",
      "11610/11610 [==============================] - 1s 100us/sample - loss: 0.4396 - val_loss: 0.4667\n",
      "Epoch 25/50\n",
      "11610/11610 [==============================] - 1s 101us/sample - loss: 0.4375 - val_loss: 0.4782\n",
      "Epoch 26/50\n",
      "11610/11610 [==============================] - 1s 100us/sample - loss: 0.4335 - val_loss: 0.4633\n",
      "Epoch 27/50\n",
      "11610/11610 [==============================] - 1s 101us/sample - loss: 0.4309 - val_loss: 0.4676\n",
      "Epoch 28/50\n",
      "11610/11610 [==============================] - 1s 100us/sample - loss: 0.4276 - val_loss: 0.4559\n",
      "Epoch 29/50\n",
      "11610/11610 [==============================] - 1s 101us/sample - loss: 0.4264 - val_loss: 0.4535\n",
      "Epoch 30/50\n",
      "11610/11610 [==============================] - 1s 101us/sample - loss: 0.4243 - val_loss: 0.4545\n",
      "Epoch 31/50\n",
      "11610/11610 [==============================] - 1s 102us/sample - loss: 0.4211 - val_loss: 0.4526\n",
      "Epoch 32/50\n",
      "11610/11610 [==============================] - 1s 100us/sample - loss: 0.4197 - val_loss: 0.4498\n",
      "Epoch 33/50\n",
      "11610/11610 [==============================] - 1s 101us/sample - loss: 0.4164 - val_loss: 0.4437\n",
      "Epoch 34/50\n",
      "11610/11610 [==============================] - 1s 101us/sample - loss: 0.4133 - val_loss: 0.4462\n",
      "Epoch 35/50\n",
      "11610/11610 [==============================] - 1s 100us/sample - loss: 0.4112 - val_loss: 0.4395\n",
      "Epoch 36/50\n",
      "11610/11610 [==============================] - 1s 100us/sample - loss: 0.4086 - val_loss: 0.4360\n",
      "Epoch 37/50\n",
      "11610/11610 [==============================] - 1s 103us/sample - loss: 0.4067 - val_loss: 0.4328\n",
      "Epoch 38/50\n",
      "11610/11610 [==============================] - 1s 101us/sample - loss: 0.4054 - val_loss: 0.4290\n",
      "Epoch 39/50\n",
      "11610/11610 [==============================] - 1s 104us/sample - loss: 0.4029 - val_loss: 0.4291\n",
      "Epoch 40/50\n",
      "11610/11610 [==============================] - 1s 101us/sample - loss: 0.4009 - val_loss: 0.4272\n",
      "Epoch 41/50\n",
      "11610/11610 [==============================] - 1s 100us/sample - loss: 0.3994 - val_loss: 0.4248\n",
      "Epoch 42/50\n",
      "11610/11610 [==============================] - 1s 100us/sample - loss: 0.3964 - val_loss: 0.4264\n",
      "Epoch 43/50\n",
      "11610/11610 [==============================] - 1s 102us/sample - loss: 0.3951 - val_loss: 0.4217\n",
      "Epoch 44/50\n",
      "11610/11610 [==============================] - 1s 100us/sample - loss: 0.3927 - val_loss: 0.4182\n",
      "Epoch 45/50\n",
      "11610/11610 [==============================] - 1s 100us/sample - loss: 0.3916 - val_loss: 0.4151\n",
      "Epoch 46/50\n",
      "11610/11610 [==============================] - 1s 104us/sample - loss: 0.3896 - val_loss: 0.4169\n",
      "Epoch 47/50\n",
      "11610/11610 [==============================] - 2s 134us/sample - loss: 0.3868 - val_loss: 0.4092\n",
      "Epoch 48/50\n",
      "11610/11610 [==============================] - 1s 120us/sample - loss: 0.3860 - val_loss: 0.4082\n",
      "Epoch 49/50\n",
      "11610/11610 [==============================] - 1s 113us/sample - loss: 0.3845 - val_loss: 0.4077\n",
      "Epoch 50/50\n",
      "11610/11610 [==============================] - 2s 131us/sample - loss: 0.3840 - val_loss: 0.4065\n"
     ]
    }
   ],
   "source": [
    "history=model.fit(X_train,y_train,validation_data=(X_val,y_val),epochs=50,callbacks=call_backs)"
   ]
  },
  {
   "cell_type": "code",
   "execution_count": 8,
   "metadata": {},
   "outputs": [
    {
     "data": {
      "image/png": "[encoded data removed]",
      "text/plain": [
       "<Figure size 576x360 with 1 Axes>"
      ]
     },
     "metadata": {
      "needs_background": "light"
     },
     "output_type": "display_data"
    }
   ],
   "source": [
    "def plot_learning_curves(history):\n",
    "    pd.DataFrame(history.history).plot(figsize=(8, 5))\n",
    "    plt.grid(True)\n",
    "    plt.gca().set_ylim(0, 3)\n",
    "    plt.show()\n",
    "plot_learning_curves(history)"
   ]
  }
 ],
 "metadata": {
  "kernelspec": {
   "display_name": "Python 3",
   "language": "python",
   "name": "python3"
  },
  "language_info": {
   "codemirror_mode": {
    "name": "ipython",
    "version": 3
   },
   "file_extension": ".py",
   "mimetype": "text/x-python",
   "name": "python",
   "nbconvert_exporter": "python",
   "pygments_lexer": "ipython3",
   "version": "3.7.4"
  }
 },
 "nbformat": 4,
 "nbformat_minor": 2
}
